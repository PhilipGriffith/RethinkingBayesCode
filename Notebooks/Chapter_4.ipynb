{
 "cells": [
  {
   "cell_type": "code",
   "execution_count": null,
   "metadata": {},
   "outputs": [],
   "source": [
    "import pymc3 as pm"
   ]
  },
  {
   "cell_type": "code",
   "execution_count": null,
   "metadata": {},
   "outputs": [],
   "source": [
    "import numpy as np\n",
    "import scipy.stats as stats\n",
    "import matplotlib.pyplot as plt\n",
    "import pandas as pd\n",
    "\n",
    "import arviz as az\n",
    "%config InlineBackend.figure_format = 'retina'\n",
    "az.style.use('arviz-darkgrid')"
   ]
  },
  {
   "cell_type": "code",
   "execution_count": null,
   "metadata": {},
   "outputs": [],
   "source": [
    "data_path = r'D:\\Bayes\\resources\\Rethinking\\Data\\Howell1.csv'\n",
    "d = pd.read_csv(data_path, sep=';', header=0)\n",
    "d2 = d[d.age >= 18]"
   ]
  },
  {
   "cell_type": "code",
   "execution_count": null,
   "metadata": {},
   "outputs": [],
   "source": [
    "with pm.Model() as m4_1:\n",
    "    mu = pm.Normal('mu', mu=178, sd=20)\n",
    "    sigma = pm.Uniform('sigma', lower=0, upper=50)\n",
    "    height = pm.Normal('height', mu=mu, sd=sigma, observed=d2.height)"
   ]
  },
  {
   "cell_type": "code",
   "execution_count": null,
   "metadata": {},
   "outputs": [],
   "source": [
    "with m4_1:\n",
    "    trace_4_1 = pm.sample(1000, tune=1000)"
   ]
  },
  {
   "cell_type": "code",
   "execution_count": null,
   "metadata": {},
   "outputs": [],
   "source": [
    "az.plot_trace(trace_4_1)"
   ]
  },
  {
   "cell_type": "code",
   "execution_count": null,
   "metadata": {},
   "outputs": [],
   "source": [
    "az.summary(trace_4_1, credible_interval=0.89).round(2)"
   ]
  },
  {
   "cell_type": "code",
   "execution_count": null,
   "metadata": {},
   "outputs": [],
   "source": [
    "with pm.Model() as m4_1:\n",
    "    mu = pm.Normal('mu', mu=178, sd=20, testval=d2.height.mean())\n",
    "    sigma = pm.Uniform('sigma', lower=0, upper=50, testval=d2.height.std())\n",
    "    height = pm.Normal('height', mu=mu, sd=sigma, observed=d2.height)\n",
    "    trace_4_1 = pm.sample(1000, tune=1000)"
   ]
  },
  {
   "cell_type": "code",
   "execution_count": null,
   "metadata": {},
   "outputs": [],
   "source": [
    "az.plot_trace(trace_4_1)\n",
    "az.summary(trace_4_1, credible_interval=0.89).round(2)"
   ]
  },
  {
   "cell_type": "code",
   "execution_count": null,
   "metadata": {},
   "outputs": [],
   "source": [
    "with pm.Model() as m4_2:\n",
    "    mu = pm.Normal('mu', mu=178, sd=0.1, testval=d2.height.mean())\n",
    "    sigma = pm.Uniform('sigma', lower=0, upper=50, testval=d2.height.std())\n",
    "    height = pm.Normal('height', mu=mu, sd=sigma, observed=d2.height)\n",
    "    trace_4_2 = pm.sample(1000, tune=1000)"
   ]
  },
  {
   "cell_type": "code",
   "execution_count": null,
   "metadata": {},
   "outputs": [],
   "source": [
    "az.plot_trace(trace_4_2)\n",
    "az.summary(trace_4_2, credible_interval=0.89).round(2)"
   ]
  },
  {
   "cell_type": "code",
   "execution_count": null,
   "metadata": {},
   "outputs": [],
   "source": [
    "prior1 = stats.norm.rvs(178, 20, 1000)\n",
    "prior2 = stats.norm.rvs(178, 0.1, 1000)\n",
    "_, ax = plt.subplots(1,2, figsize=(8,4))\n",
    "az.plot_kde(prior1, ax=ax[0])\n",
    "az.plot_kde(prior2, ax=ax[1])"
   ]
  },
  {
   "cell_type": "code",
   "execution_count": null,
   "metadata": {},
   "outputs": [],
   "source": [
    "trace_df = pm.trace_to_dataframe(trace_4_1)\n",
    "trace_df.cov()"
   ]
  },
  {
   "cell_type": "code",
   "execution_count": null,
   "metadata": {},
   "outputs": [],
   "source": [
    "np.diag(trace_df.cov())"
   ]
  },
  {
   "cell_type": "code",
   "execution_count": null,
   "metadata": {},
   "outputs": [],
   "source": [
    "trace_df.corr()"
   ]
  },
  {
   "cell_type": "code",
   "execution_count": null,
   "metadata": {},
   "outputs": [],
   "source": [
    "trace_df.head()"
   ]
  },
  {
   "cell_type": "code",
   "execution_count": null,
   "metadata": {},
   "outputs": [],
   "source": [
    "az.summary(trace_4_1, credible_interval=0.89).round(2)"
   ]
  },
  {
   "cell_type": "code",
   "execution_count": null,
   "metadata": {},
   "outputs": [],
   "source": [
    "plt.scatter(trace_4_1['mu'], trace_4_1['sigma'], alpha=0.1)"
   ]
  },
  {
   "cell_type": "code",
   "execution_count": null,
   "metadata": {},
   "outputs": [],
   "source": [
    "plt.plot(d2.height, d2.weight, '.')"
   ]
  },
  {
   "cell_type": "code",
   "execution_count": null,
   "metadata": {},
   "outputs": [],
   "source": [
    "with pm.Model() as m4_3:\n",
    "    alpha = pm.Normal('alpha', mu=178, sd=100)\n",
    "    beta = pm.Normal('beta', mu=0, sd=10)\n",
    "    sigma = pm.Uniform('sigma', lower=0, upper=50)\n",
    "    mu = alpha + beta * d2.weight\n",
    "    height = pm.Normal('height', mu=mu, sd=sigma, observed=d2.height)\n",
    "    trace_4_3 = pm.sample(1000, tune=1000)"
   ]
  },
  {
   "cell_type": "code",
   "execution_count": null,
   "metadata": {},
   "outputs": [],
   "source": [
    "az.plot_trace(trace_4_3)"
   ]
  },
  {
   "cell_type": "code",
   "execution_count": null,
   "metadata": {},
   "outputs": [],
   "source": [
    "az.summary(trace_4_3, credible_interval=0.89).round(2)"
   ]
  },
  {
   "cell_type": "code",
   "execution_count": null,
   "metadata": {},
   "outputs": [],
   "source": [
    "az.plot_kde(stats.norm.rvs(0.9, 0.04, 1000))"
   ]
  },
  {
   "cell_type": "code",
   "execution_count": null,
   "metadata": {},
   "outputs": [],
   "source": [
    "trace_df_4_3 = pm.trace_to_dataframe(trace_4_3)\n",
    "trace_df_4_3.corr().round(2)"
   ]
  },
  {
   "cell_type": "code",
   "execution_count": null,
   "metadata": {},
   "outputs": [],
   "source": [
    "d2 = d2.assign(weight_c=pd.Series(d2.weight - d2.weight.mean()))"
   ]
  },
  {
   "cell_type": "code",
   "execution_count": null,
   "metadata": {},
   "outputs": [],
   "source": [
    "print(d2.weight.mean())\n",
    "d2"
   ]
  },
  {
   "cell_type": "code",
   "execution_count": null,
   "metadata": {},
   "outputs": [],
   "source": [
    "with pm.Model() as m4_4:\n",
    "    alpha = pm.Normal('alpha', mu=178, sd=100)\n",
    "    beta = pm.Normal('beta', mu=0, sd=10)\n",
    "    sigma = pm.Uniform('sigma', lower=0, upper=50)\n",
    "    mu = alpha + beta * d2.weight_c\n",
    "    height = pm.Normal('height', mu=mu, sd=sigma, observed=d2.height)\n",
    "    trace_4_4 = pm.sample(1000, tune=1000)"
   ]
  },
  {
   "cell_type": "code",
   "execution_count": null,
   "metadata": {},
   "outputs": [],
   "source": [
    "az.summary(trace_4_4, credible_interval=.11).round(2)"
   ]
  },
  {
   "cell_type": "code",
   "execution_count": null,
   "metadata": {},
   "outputs": [],
   "source": [
    "d2.height.mean()"
   ]
  },
  {
   "cell_type": "code",
   "execution_count": null,
   "metadata": {},
   "outputs": [],
   "source": [
    "trace_df = pm.trace_to_dataframe(trace_4_4)\n",
    "trace_df.corr().round(2)"
   ]
  },
  {
   "cell_type": "code",
   "execution_count": null,
   "metadata": {},
   "outputs": [],
   "source": [
    "plt.plot(d2.weight, d2.height, '.')\n",
    "plt.plot(d2.weight, trace_4_3['alpha'].mean() + trace_4_3['beta'].mean() * d2.weight)\n",
    "plt.xlabel(d2.columns[1])\n",
    "plt.ylabel(d2.columns[0])"
   ]
  },
  {
   "cell_type": "code",
   "execution_count": null,
   "metadata": {},
   "outputs": [],
   "source": [
    "trace_df_4_4 = pm.trace_to_dataframe(trace_4_4)\n",
    "trace_df_4_4[:5]"
   ]
  },
  {
   "cell_type": "code",
   "execution_count": null,
   "metadata": {},
   "outputs": [],
   "source": [
    "N = [10, 50, 150, 352][3]\n",
    "with pm.Model() as m_N:\n",
    "    alpha = pm.Normal('alpha', mu=178, sd=100)\n",
    "    beta = pm.Normal('beta', mu=0, sd=10)\n",
    "    sigma = pm.Uniform('sigma', lower=0, upper=50)\n",
    "    mu = pm.Deterministic('mu', alpha + beta * d2.weight[:N])\n",
    "    height_hat = pm.Normal('height_hat', mu=mu, sd=sigma, observed=d2.height[:N])\n",
    "    trace_N = pm.sample(1000, tune=1000)"
   ]
  },
  {
   "cell_type": "code",
   "execution_count": null,
   "metadata": {},
   "outputs": [],
   "source": [
    "chain_N = trace_N[100:]\n",
    "az.plot_trace(chain_N, var_names='~mu')"
   ]
  },
  {
   "cell_type": "code",
   "execution_count": null,
   "metadata": {},
   "outputs": [],
   "source": [
    "plt.plot(d2.weight[:N], d2.height[:N], 'C0o')\n",
    "for i in range(20):\n",
    "    idx = np.random.randint(len(chain_N))\n",
    "    plt.plot(d2.weight[:N], chain_N['mu'][idx], 'C1-', alpha=0.25)\n",
    "plt.xlabel(d2.columns[1])\n",
    "plt.ylabel(d2.columns[0])"
   ]
  },
  {
   "cell_type": "code",
   "execution_count": null,
   "metadata": {},
   "outputs": [],
   "source": [
    "mu_at_50 = trace_N['alpha'] + trace_N['beta'] * (50 - np.mean(d2.weight_c))"
   ]
  },
  {
   "cell_type": "code",
   "execution_count": null,
   "metadata": {},
   "outputs": [],
   "source": [
    "az.plot_kde(mu_at_50)"
   ]
  },
  {
   "cell_type": "code",
   "execution_count": null,
   "metadata": {},
   "outputs": [],
   "source": [
    "az.hpd(mu_at_50, credible_interval=0.89).round(2)"
   ]
  },
  {
   "cell_type": "code",
   "execution_count": null,
   "metadata": {},
   "outputs": [],
   "source": [
    "df_trace_N = pm.trace_to_dataframe(chain_N).filter(regex=('mu.*'))\n",
    "df_trace_N.head()"
   ]
  },
  {
   "cell_type": "code",
   "execution_count": null,
   "metadata": {},
   "outputs": [],
   "source": [
    "weight_seq = np.arange(25, 71)\n",
    "chain_N_thin = chain_N[::10]\n",
    "mu_pred = np.zeros((len(weight_seq), len(chain_N_thin) * chain_N_thin.nchains))\n",
    "for i, w in enumerate(weight_seq):\n",
    "    mu_pred[i] = chain_N_thin['alpha'] + chain_N_thin['beta'] * w"
   ]
  },
  {
   "cell_type": "code",
   "execution_count": null,
   "metadata": {},
   "outputs": [],
   "source": [
    "len(mu_pred)"
   ]
  },
  {
   "cell_type": "code",
   "execution_count": null,
   "metadata": {},
   "outputs": [],
   "source": [
    "plt.plot(weight_seq, mu_pred, 'C0.', alpha=0.1)\n",
    "plt.xlabel('weight')\n",
    "plt.ylabel('height')"
   ]
  },
  {
   "cell_type": "code",
   "execution_count": null,
   "metadata": {},
   "outputs": [],
   "source": [
    "mu_mean = mu_pred.mean(1)\n",
    "mu_hpd = az.hpd(mu_pred.T, credible_interval=0.89)"
   ]
  },
  {
   "cell_type": "code",
   "execution_count": null,
   "metadata": {},
   "outputs": [],
   "source": [
    "plt.scatter(d2.weight[:N], d2.height[:N])\n",
    "plt.plot(weight_seq, mu_mean, color='black')\n",
    "az.plot_hpd(weight_seq, mu_pred.T)\n",
    "plt.xlabel('weight')\n",
    "plt.ylabel('height')\n",
    "plt.xlim(d2.weight[:N].min(), d2.weight[:N].max())"
   ]
  },
  {
   "cell_type": "code",
   "execution_count": null,
   "metadata": {},
   "outputs": [],
   "source": [
    "height_pred = pm.sample_posterior_predictive(chain_N, 200, m_N)\n",
    "az.hpd(height_pred['height_hat'])[:5]"
   ]
  },
  {
   "cell_type": "code",
   "execution_count": null,
   "metadata": {},
   "outputs": [],
   "source": [
    "plt.scatter(d2.weight[:N], d2.height[:N])\n",
    "plt.plot(weight_seq, mu_mean, color='black')\n",
    "az.plot_hpd(weight_seq, mu_pred.T)\n",
    "az.plot_hpd(d2.weight[:N], height_pred['height_hat'])\n",
    "plt.xlabel('weight')\n",
    "plt.ylabel('height')\n",
    "plt.xlim(d2.weight[:N].min(), d2.weight[:N].max())"
   ]
  },
  {
   "cell_type": "code",
   "execution_count": null,
   "metadata": {},
   "outputs": [],
   "source": [
    "post_samples = []\n",
    "for _ in range(1000): # number of samples from the posterior\n",
    "    i = np.random.randint(len(chain_N))\n",
    "    mu_pr = chain_N['alpha'][i] + chain_N['beta'][i] * weight_seq\n",
    "    sigma_pred = chain_N['sigma'][i]\n",
    "    post_samples.append(np.random.normal(mu_pr, sigma_pred))"
   ]
  },
  {
   "cell_type": "code",
   "execution_count": null,
   "metadata": {},
   "outputs": [],
   "source": [
    "plt.scatter(d2.weight[:N], d2.height[:N])\n",
    "plt.plot(weight_seq, mu_mean, color='black')\n",
    "az.plot_hpd(weight_seq, mu_pred.T)\n",
    "az.plot_hpd(weight_seq, np.array(post_samples))\n",
    "plt.xlabel('weight')\n",
    "plt.ylabel('height')\n",
    "plt.xlim(d2.weight.min(), d2.weight.max())"
   ]
  },
  {
   "cell_type": "code",
   "execution_count": null,
   "metadata": {},
   "outputs": [],
   "source": [
    "plt.scatter(d.weight, d.height, alpha=0.3)"
   ]
  },
  {
   "cell_type": "code",
   "execution_count": null,
   "metadata": {},
   "outputs": [],
   "source": [
    "d['weight_std'] = (d.weight - d.weight.mean()) / d.weight.std()\n",
    "d['weight_std2'] = d.weight_std**2"
   ]
  },
  {
   "cell_type": "code",
   "execution_count": null,
   "metadata": {},
   "outputs": [],
   "source": [
    "with pm.Model() as m_4_5:\n",
    "    alpha = pm.Normal('alpha', mu=178, sd=20)\n",
    "    beta = pm.Normal('beta', mu=0, sd=1, shape=2)\n",
    "    sigma = pm.Uniform('sigma', lower=0, upper=50)\n",
    "    mu = pm.Deterministic('mu', alpha + beta[0] * d.weight_std + beta[1] * d.weight_std2)\n",
    "    height = pm.Normal('height', mu=mu, sd=sigma, observed=d.height)\n",
    "    trace_4_5 = pm.sample(1000, tune=1000)"
   ]
  },
  {
   "cell_type": "code",
   "execution_count": null,
   "metadata": {},
   "outputs": [],
   "source": [
    "az.plot_trace(trace_4_5, ['~mu'])"
   ]
  },
  {
   "cell_type": "code",
   "execution_count": null,
   "metadata": {},
   "outputs": [],
   "source": [
    "with pm.Model() as m_4_5_ln:\n",
    "    alpha = pm.Normal('alpha', mu=178, sd=20)\n",
    "    beta1 = pm.Lognormal('beta1', mu=0, sd=1)\n",
    "    beta2 = pm.Normal('beta2', mu=0, sd=1)\n",
    "    sigma = pm.Uniform('sigma', lower=0, upper=50)\n",
    "    mu = pm.Deterministic('mu', alpha + beta1 * d.weight_std + beta2 * d.weight_std2)\n",
    "    height = pm.Normal('height', mu=mu, sd=sigma, observed=d.height)\n",
    "    trace_4_5_ln = pm.sample(1000, tune=1000)"
   ]
  },
  {
   "cell_type": "code",
   "execution_count": null,
   "metadata": {},
   "outputs": [],
   "source": [
    "az.plot_trace(trace_4_5_ln, ['~mu'])"
   ]
  },
  {
   "cell_type": "code",
   "execution_count": null,
   "metadata": {},
   "outputs": [],
   "source": [
    "az.summary(trace_4_5, ['~mu'], credible_interval=.89).round(2)"
   ]
  },
  {
   "cell_type": "code",
   "execution_count": null,
   "metadata": {},
   "outputs": [],
   "source": [
    "az.summary(trace_4_5_ln, ['~mu'], credible_interval=.89).round(2)"
   ]
  },
  {
   "cell_type": "code",
   "execution_count": null,
   "metadata": {},
   "outputs": [],
   "source": [
    "mu_pred = trace_4_5_ln['mu']\n",
    "height_pred = pm.sample_ppc(trace_4_5_ln, 200, m_4_5_ln)"
   ]
  },
  {
   "cell_type": "code",
   "execution_count": null,
   "metadata": {},
   "outputs": [],
   "source": [
    "plt.scatter(d.weight_std, d.height, c='C0', alpha=0.3)\n",
    "az.plot_hpd(d.weight_std, mu_pred, credible_interval=0.89)\n",
    "az.plot_hpd(d.weight_std, height_pred['height'], credible_interval=0.89)"
   ]
  },
  {
   "cell_type": "code",
   "execution_count": null,
   "metadata": {},
   "outputs": [],
   "source": [
    "d['weight_std3'] = d.weight_std**3"
   ]
  },
  {
   "cell_type": "code",
   "execution_count": null,
   "metadata": {},
   "outputs": [],
   "source": [
    "with pm.Model() as m_4_6:\n",
    "    alpha = pm.Normal('alpha', mu=178, sd=20)\n",
    "    beta1 = pm.Normal('beta1', mu=0, sd=10)\n",
    "    beta2 = pm.Normal('beta2', mu=0, sd=10)\n",
    "    beta3 = pm.Normal('beta3', mu=0, sd=10)\n",
    "    sigma = pm.Uniform('sigma', lower=0, upper=50)\n",
    "    mu = pm.Deterministic('mu', alpha + beta1 * d.weight_std + beta2 * d.weight_std2 + beta3 * d.weight_std3)\n",
    "    height = pm.Normal('height', mu=mu, sd=sigma, observed=d.height)\n",
    "    trace_4_6 = pm.sample(1000, tune=1000)"
   ]
  },
  {
   "cell_type": "code",
   "execution_count": null,
   "metadata": {},
   "outputs": [],
   "source": [
    "mu_pred = trace_4_6['mu']\n",
    "height_pred = pm.sample_posterior_predictive(trace_4_6, 200, model=m_4_6)"
   ]
  },
  {
   "cell_type": "code",
   "execution_count": null,
   "metadata": {},
   "outputs": [],
   "source": [
    "plt.scatter(d.weight_std, d.height, c='C0', alpha=0.3)\n",
    "az.plot_hpd(d.weight_std, mu_pred, credible_interval=0.89)\n",
    "az.plot_hpd(d.weight_std, height_pred['height'], credible_interval=0.89)\n",
    "at = np.arange(-2, 3)\n",
    "plt.xticks(at, np.round(at * d.weight.std() + d.weight.mean(), 1))"
   ]
  },
  {
   "cell_type": "code",
   "execution_count": null,
   "metadata": {},
   "outputs": [],
   "source": [
    "n = 1000\n",
    "mu_n = stats.norm.rvs(loc=0, scale=10, size=n)\n",
    "sigma_n = stats.uniform.rvs(loc=0, scale=10, size=n)\n",
    "prior = stats.norm.rvs(loc=mu_n, scale=sigma_n)\n",
    "az.plot_kde(prior)"
   ]
  },
  {
   "cell_type": "code",
   "execution_count": null,
   "metadata": {},
   "outputs": [],
   "source": []
  },
  {
   "cell_type": "code",
   "execution_count": null,
   "metadata": {},
   "outputs": [],
   "source": [
    "n = 1000\n",
    "alpha = stats.norm.rvs(loc=120, scale=10, size=n)\n",
    "beta = stats.norm.rvs(loc=7, scale=2, size=n)\n",
    "sigma = stats.uniform.rvs(loc=0, scale=15, size=n)\n",
    "az.plot_kde(sigma)"
   ]
  },
  {
   "cell_type": "code",
   "execution_count": null,
   "metadata": {},
   "outputs": [],
   "source": [
    "with pm.Model() as h4h1:\n",
    "    alpha = pm.Normal('alpha', mu=140, sd=30)\n",
    "    beta = pm.Normal('beta', mu=0, sd=10)\n",
    "    sigma = pm.Uniform('sigma', lower=0, upper=50)\n",
    "    mu = pm.Deterministic('mu', alpha + beta * d.weight)\n",
    "    height_hat = pm.Normal('height_hat', mu=mu, sd=sigma, observed=d.height)\n",
    "    trace_h4h1 = pm.sample(1000, tune=2500)"
   ]
  },
  {
   "cell_type": "code",
   "execution_count": null,
   "metadata": {},
   "outputs": [],
   "source": [
    "az.plot_trace(trace_h4h1, ['~mu'])"
   ]
  },
  {
   "cell_type": "code",
   "execution_count": null,
   "metadata": {},
   "outputs": [],
   "source": [
    "trace_df_h4h1 = pm.trace_to_dataframe(trace_h4h1)"
   ]
  },
  {
   "cell_type": "code",
   "execution_count": null,
   "metadata": {},
   "outputs": [],
   "source": [
    "trace_df_h4h1.head()"
   ]
  },
  {
   "cell_type": "code",
   "execution_count": null,
   "metadata": {},
   "outputs": [],
   "source": [
    "az.summary(trace_h4h1, ['~mu'])"
   ]
  },
  {
   "cell_type": "code",
   "execution_count": null,
   "metadata": {},
   "outputs": [],
   "source": [
    "for i in [46.95, 43.72, 64.78, 32.59, 54.63]:\n",
    "    height_pred = trace_h4h1['alpha'].mean() + trace_h4h1['beta'].mean() * i\n",
    "    print(height_pred)"
   ]
  },
  {
   "cell_type": "code",
   "execution_count": null,
   "metadata": {},
   "outputs": [],
   "source": [
    "weights = [46.95, 43.72, 64.78, 32.59, 54.63]\n",
    "mu_pred = np.zeros((len(weights), len(trace_h4h1) * trace_h4h1.nchains))\n",
    "for i, w in enumerate(weights):\n",
    "    mu_pred[i] = trace_h4h1['alpha'] + trace_h4h1['beta'] * w"
   ]
  },
  {
   "cell_type": "code",
   "execution_count": null,
   "metadata": {},
   "outputs": [],
   "source": [
    "mu_hpd = az.hpd(mu_pred.T, credible_interval=0.89)"
   ]
  },
  {
   "cell_type": "code",
   "execution_count": null,
   "metadata": {},
   "outputs": [],
   "source": [
    "mu_pred.mean(1).round(2)"
   ]
  },
  {
   "cell_type": "code",
   "execution_count": null,
   "metadata": {},
   "outputs": [],
   "source": [
    "mu_hpd.round(2)"
   ]
  },
  {
   "cell_type": "code",
   "execution_count": null,
   "metadata": {},
   "outputs": [],
   "source": [
    "d3 = d[d.age < 18]\n",
    "len(d3)"
   ]
  },
  {
   "cell_type": "code",
   "execution_count": null,
   "metadata": {},
   "outputs": [],
   "source": [
    "with pm.Model() as h4h2:\n",
    "    alpha = pm.Normal('alpha', mu=110, sd=30)\n",
    "    beta = pm.Normal('beta', mu=0, sd=10)\n",
    "    sigma = pm.Uniform('sigma', lower=0, upper=60)\n",
    "    mu = pm.Deterministic('mu', alpha + beta * d3.weight)\n",
    "    height_hat = pm.Normal('height_hat', mu=mu, sd=sigma, observed=d3.height)\n",
    "    trace_h4h2 = pm.sample(1000, tune=1000)"
   ]
  },
  {
   "cell_type": "code",
   "execution_count": null,
   "metadata": {},
   "outputs": [],
   "source": [
    "az.summary(trace_h4h2, ['~mu'], credible_interval=0.89)"
   ]
  },
  {
   "cell_type": "code",
   "execution_count": null,
   "metadata": {},
   "outputs": [],
   "source": [
    "weight_seq = np.arange(int(d3.weight.min()), int(d3.weight.max()))\n",
    "mu_pred = trace_h4h2['mu']\n",
    "height_pred = pm.sample_posterior_predictive(trace_h4h2, model=h4h2)"
   ]
  },
  {
   "cell_type": "code",
   "execution_count": null,
   "metadata": {},
   "outputs": [],
   "source": [
    "len(mu_pred.mean(0))"
   ]
  },
  {
   "cell_type": "code",
   "execution_count": null,
   "metadata": {},
   "outputs": [],
   "source": [
    "plt.scatter(d3.weight, d3.height, alpha=0.3)\n",
    "plt.plot(d3.weight, mu_pred.mean(0), color='black')\n",
    "az.plot_hpd(d3.weight, mu_pred, credible_interval=0.89)\n",
    "az.plot_hpd(d3.weight, height_pred['height_hat'], credible_interval=0.89)\n",
    "plt.xlabel('weight')\n",
    "plt.ylabel('height')"
   ]
  },
  {
   "cell_type": "code",
   "execution_count": null,
   "metadata": {},
   "outputs": [],
   "source": [
    "with pm.Model() as h4h3:\n",
    "    alpha = pm.Normal('alpha', mu=178, sd=100)\n",
    "    beta = pm.Normal('beta', mu=0, sd=100)\n",
    "    sigma = pm.Uniform('sigma', lower=0, upper=50)\n",
    "    mu = pm.Deterministic('mu', alpha + beta * np.log(d.weight))\n",
    "    height = pm.Normal('height', mu=mu, sd=sigma, observed=d.height)\n",
    "    trace_h4h3 = pm.sample(1000, tune=3000)"
   ]
  },
  {
   "cell_type": "code",
   "execution_count": null,
   "metadata": {},
   "outputs": [],
   "source": [
    "az.summary(trace_h4h3, ['~mu'], credible_interval=0.89)"
   ]
  },
  {
   "cell_type": "code",
   "execution_count": null,
   "metadata": {},
   "outputs": [],
   "source": [
    "weight_seq = np.arange(int(d.weight.min()), int(d.weight.max()))\n",
    "mu_pred = trace_h4h3['mu']\n",
    "height_pred = pm.sample_posterior_predictive(trace_h4h3, model=h4h3)"
   ]
  },
  {
   "cell_type": "code",
   "execution_count": null,
   "metadata": {},
   "outputs": [],
   "source": [
    "plt.scatter(d.weight, d.height, alpha=0.3)\n",
    "az.plot_hpd(d.weight, height_pred['height'], credible_interval=0.97, color='yellow')\n",
    "az.plot_hpd(d.weight, mu_pred, credible_interval=0.97)\n",
    "plt.xlabel('weight')\n",
    "plt.ylabel('height')"
   ]
  },
  {
   "cell_type": "code",
   "execution_count": null,
   "metadata": {},
   "outputs": [],
   "source": []
  },
  {
   "cell_type": "code",
   "execution_count": null,
   "metadata": {},
   "outputs": [],
   "source": []
  }
 ],
 "metadata": {
  "kernelspec": {
   "display_name": "Python 3",
   "language": "python",
   "name": "python3"
  },
  "language_info": {
   "codemirror_mode": {
    "name": "ipython",
    "version": 3
   },
   "file_extension": ".py",
   "mimetype": "text/x-python",
   "name": "python",
   "nbconvert_exporter": "python",
   "pygments_lexer": "ipython3",
   "version": "3.7.7"
  }
 },
 "nbformat": 4,
 "nbformat_minor": 2
}
