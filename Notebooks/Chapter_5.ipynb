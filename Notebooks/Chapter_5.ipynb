{
 "cells": [
  {
   "cell_type": "code",
   "execution_count": null,
   "metadata": {},
   "outputs": [],
   "source": [
    "import pymc3 as pm\n",
    "import numpy as np\n",
    "import pandas as pd\n",
    "from scipy import stats\n",
    "import matplotlib.pyplot as plt\n",
    "import seaborn as sns\n",
    "import arviz as az\n",
    "import statsmodels.formula.api as smf\n",
    "%config InlineBackend.figure_format = 'retina'\n",
    "az.style.use('arviz-darkgrid')"
   ]
  },
  {
   "cell_type": "code",
   "execution_count": null,
   "metadata": {},
   "outputs": [],
   "source": [
    "d = pd.read_csv(r'D:\\Bayes\\resources\\Rethinking\\Data\\WaffleDivorce.csv', sep=';')\n",
    "# standardize predictor\n",
    "d['MAMs'] = (d.MedianAgeMarriage - d.MedianAgeMarriage.mean()) / d.MedianAgeMarriage.std()\n",
    "d.head()"
   ]
  },
  {
   "cell_type": "code",
   "execution_count": null,
   "metadata": {},
   "outputs": [],
   "source": [
    "with pm.Model() as m51:\n",
    "    alpha = pm.Normal('alpha', mu=10, sd=10)\n",
    "    beta = pm.Normal('beta', mu=0, sd=1)\n",
    "    sigma = pm.Uniform('sigma', lower=0, upper=10)\n",
    "    mu = pm.Deterministic('mu', alpha + beta * d.MAMs)\n",
    "    divorce = pm.Normal('divorce', mu=mu, sd=sigma, observed=d.Divorce)\n",
    "    trace_51 = pm.sample(1000, tune=1000)"
   ]
  },
  {
   "cell_type": "code",
   "execution_count": null,
   "metadata": {},
   "outputs": [],
   "source": [
    "az.plot_trace(trace_51, ['~mu'])"
   ]
  },
  {
   "cell_type": "code",
   "execution_count": null,
   "metadata": {},
   "outputs": [],
   "source": [
    "mu_mean = trace_51['mu']"
   ]
  },
  {
   "cell_type": "code",
   "execution_count": null,
   "metadata": {},
   "outputs": [],
   "source": [
    "plt.plot(d['MAMs'], d.Divorce, 'C0o')\n",
    "plt.plot(d['MAMs'], mu_mean.mean(0), 'C1')\n",
    "az.plot_hpd(d['MAMs'], mu_mean)\n",
    "plt.xlabel('MedianAgeMarriage_s')\n",
    "plt.ylabel('Divorce');"
   ]
  },
  {
   "cell_type": "code",
   "execution_count": null,
   "metadata": {},
   "outputs": [],
   "source": [
    "az.summary(trace_51, ['~mu'])"
   ]
  },
  {
   "cell_type": "code",
   "execution_count": null,
   "metadata": {},
   "outputs": [],
   "source": [
    "d['MRs'] = (d.Marriage - d.Marriage.mean()) / d.Marriage.std()"
   ]
  },
  {
   "cell_type": "code",
   "execution_count": null,
   "metadata": {},
   "outputs": [],
   "source": [
    "with pm.Model() as m52:\n",
    "    alpha = pm.Normal('alpha', mu=10, sd=10)\n",
    "    beta = pm.Normal('beta', mu=0, sd=1)\n",
    "    sigma = pm.Uniform('sigma', lower=0, upper=10)\n",
    "    mu = pm.Deterministic('mu', alpha + beta * d.MRs)\n",
    "    divorce = pm.Normal('divorce', mu=mu, sd=sigma, observed=d.Divorce)\n",
    "    trace_52 = pm.sample(1000, tune=1000)"
   ]
  },
  {
   "cell_type": "code",
   "execution_count": null,
   "metadata": {},
   "outputs": [],
   "source": [
    "az.plot_trace(trace_52, ['~mu'])"
   ]
  },
  {
   "cell_type": "code",
   "execution_count": null,
   "metadata": {},
   "outputs": [],
   "source": [
    "mu_mean = trace_52['mu']\n",
    "\n",
    "d.plot('MRs', 'Divorce', kind='scatter', xlim = (-2, 3))\n",
    "plt.plot(d.MRs, mu_mean.mean(0), 'C1')\n",
    "az.plot_hpd(d.MRs, mu_mean);"
   ]
  },
  {
   "cell_type": "code",
   "execution_count": null,
   "metadata": {},
   "outputs": [],
   "source": [
    "az.summary(trace_52, ['~mu'])"
   ]
  },
  {
   "cell_type": "code",
   "execution_count": null,
   "metadata": {},
   "outputs": [],
   "source": [
    "with pm.Model() as m53:\n",
    "    alpha = pm.Normal('alpha', mu=10, sd=10)\n",
    "    betaA = pm.Normal('betaA', mu=0, sd=1)\n",
    "    betaR = pm.Normal('betaR', mu=0, sd=1)\n",
    "    sigma = pm.Uniform('sigma', lower=0, upper=10)\n",
    "    mu = pm.Deterministic('mu', alpha + betaA * d.MAMs + betaR * d.MRs)\n",
    "    divorce = pm.Normal('divorce', mu=mu, sd=sigma, observed=d.Divorce)\n",
    "    trace_53 = pm.sample(1000, tune=1000)"
   ]
  },
  {
   "cell_type": "code",
   "execution_count": null,
   "metadata": {},
   "outputs": [],
   "source": [
    "az.plot_trace(trace_53, ['~mu'])"
   ]
  },
  {
   "cell_type": "code",
   "execution_count": null,
   "metadata": {},
   "outputs": [],
   "source": [
    "az.summary(trace_53, ['~mu'])"
   ]
  },
  {
   "cell_type": "code",
   "execution_count": null,
   "metadata": {},
   "outputs": [],
   "source": [
    "pm.forestplot(trace_53, var_names=['~mu'])"
   ]
  },
  {
   "cell_type": "code",
   "execution_count": null,
   "metadata": {},
   "outputs": [],
   "source": [
    "with pm.Model() as m54:\n",
    "    alpha = pm.Normal('alpha', mu=0, sd=10)\n",
    "    betaA = pm.Normal('betaA', mu=0, sd=1)\n",
    "    sigma = pm.Uniform('sigma', lower=0, upper=10)\n",
    "    mu = pm.Deterministic('mu', alpha + betaA * d.MAMs)\n",
    "    divorce = pm.Normal('divorce', mu=mu, sd=sigma, observed=d.MRs)\n",
    "    trace_54 = pm.sample(1000, tune=1000)"
   ]
  },
  {
   "cell_type": "code",
   "execution_count": null,
   "metadata": {},
   "outputs": [],
   "source": [
    "pm.traceplot(trace_54, ['~mu'])"
   ]
  },
  {
   "cell_type": "code",
   "execution_count": null,
   "metadata": {},
   "outputs": [],
   "source": [
    "mu_pred = trace_54['mu'].mean(0)\n",
    "residuals = d.MRs - mu_pred"
   ]
  },
  {
   "cell_type": "code",
   "execution_count": null,
   "metadata": {},
   "outputs": [],
   "source": [
    "idx = np.argsort(d.MAMs)\n",
    "d.plot('MAMs', 'MRs', kind='scatter', xlim = (-3, 3), ylim = (-3, 3))\n",
    "plt.plot(d.MAMs[idx], mu_pred[idx], color='black')\n",
    "plt.vlines(d.MAMs, mu_pred, mu_pred + residuals, colors='grey');"
   ]
  },
  {
   "cell_type": "code",
   "execution_count": null,
   "metadata": {},
   "outputs": [],
   "source": [
    "with pm.Model() as model_532:\n",
    "    a = pm.Normal('a', mu=10, sd=10)\n",
    "    bA = pm.Normal('bA', mu=0, sd=1, shape=2)\n",
    "    sigma = pm.Uniform('sigma', lower=0, upper=10)\n",
    "    mu = pm.Deterministic('mu', a + bA[0] * d.MRs + bA[1] * d.MAMs)\n",
    "    divorce = pm.Normal('Divorce', mu=mu, sd=sigma, observed=d.Divorce)\n",
    "    trace_532 = pm.sample(1000, tune=1000)"
   ]
  },
  {
   "cell_type": "code",
   "execution_count": null,
   "metadata": {},
   "outputs": [],
   "source": [
    "A_avg = np.linspace(-3, 3, 100)\n",
    "\n",
    "mu_pred = trace_53['alpha'] + trace_53['betaR'] * A_avg[:,None]\n",
    "divorce_ = stats.norm.rvs(mu_pred, trace_53['sigma'])\n",
    "\n",
    "plt.plot(R_avg, mu_pred.mean(1), 'C0')\n",
    "az.plot_hpd(R_avg, mu_pred.T, credible_interval=0.89)\n",
    "az.plot_hpd(R_avg, divorce_.T, credible_interval=0.89)\n",
    "\n",
    "plt.xlabel('MR')\n",
    "plt.ylabel('Divorce')\n",
    "plt.title('MAMs = 0');"
   ]
  },
  {
   "cell_type": "code",
   "execution_count": null,
   "metadata": {},
   "outputs": [],
   "source": [
    "R_avg = np.linspace(-3, 3, 100)\n",
    "\n",
    "mu_pred = trace_53['alpha'] + trace_53['betaA'] * R_avg[:,None]\n",
    "divorce_ = stats.norm.rvs(mu_pred, trace_53['sigma'])\n",
    "\n",
    "plt.plot(R_avg, mu_pred.mean(1), 'C0')\n",
    "az.plot_hpd(R_avg, mu_pred.T, credible_interval=0.89)\n",
    "az.plot_hpd(R_avg, divorce_.T, credible_interval=0.89)\n",
    "\n",
    "plt.xlabel('MAMs')\n",
    "plt.ylabel('Divorce')\n",
    "plt.title('MRs = 0');"
   ]
  },
  {
   "cell_type": "code",
   "execution_count": null,
   "metadata": {},
   "outputs": [],
   "source": [
    "mu_pred = trace_53['mu']"
   ]
  },
  {
   "cell_type": "code",
   "execution_count": null,
   "metadata": {},
   "outputs": [],
   "source": [
    "divorce_pred = pm.sample_posterior_predictive(trace_53, samples=1000, model=m53)['divorce']\n",
    "divorce_hpd = pm.hpd(divorce_pred)"
   ]
  },
  {
   "cell_type": "code",
   "execution_count": null,
   "metadata": {},
   "outputs": [],
   "source": [
    "mu_hpd = az.hpd(mu_pred, credible_interval=0.95)\n",
    "plt.errorbar(d.Divorce, divorce_pred.mean(0), yerr=np.abs(divorce_pred.mean(0)-mu_hpd.T), fmt='C0o')\n",
    "plt.plot(d.Divorce, divorce_pred.mean(0), 'C0o')\n",
    "plt.xlabel('Observed divorce')\n",
    "plt.ylabel('Predicted divorce')\n",
    "min_x, max_x = d.Divorce.min(), d.Divorce.max()\n",
    "plt.plot([min_x, max_x], [min_x, max_x], 'k--')"
   ]
  },
  {
   "cell_type": "code",
   "execution_count": null,
   "metadata": {},
   "outputs": [],
   "source": [
    "plt.figure(figsize=(10, 12))\n",
    "residuals = d.Divorce - mu_pred.mean(0)\n",
    "idx = np.argsort(residuals)\n",
    "y_label = d.Loc[idx]\n",
    "y_points = np.linspace(0, 1, 50)\n",
    "plt.errorbar(residuals[idx], y_points, xerr=np.abs(divorce_pred.mean(0) - mu_hpd.T), fmt='C0o', lw=3)\n",
    "plt.errorbar(residuals[idx], y_points, xerr=np.abs(divorce_pred.mean(0) - divorce_hpd.T), fmt='C0o', lw=2, alpha=0.5)\n",
    "plt.yticks(y_points, y_label)\n",
    "plt.vlines(0, 0, 1, 'grey')"
   ]
  },
  {
   "cell_type": "code",
   "execution_count": null,
   "metadata": {},
   "outputs": [],
   "source": [
    "n = 100\n",
    "x_real = stats.norm.rvs(size=n)\n",
    "x_spur = stats.norm.rvs(x_real)\n",
    "y = stats.norm.rvs(x_real)\n",
    "d = pd.DataFrame([y, x_real, x_spur]).T\n",
    "sns.pairplot(d)"
   ]
  },
  {
   "cell_type": "code",
   "execution_count": null,
   "metadata": {},
   "outputs": [],
   "source": [
    "d = pd.read_csv(r'D:\\Bayes\\resources\\Rethinking\\Data\\milk.csv', sep=';')"
   ]
  },
  {
   "cell_type": "code",
   "execution_count": null,
   "metadata": {},
   "outputs": [],
   "source": [
    "d.head()"
   ]
  },
  {
   "cell_type": "code",
   "execution_count": null,
   "metadata": {},
   "outputs": [],
   "source": [
    "dcc = d.dropna().copy()"
   ]
  },
  {
   "cell_type": "code",
   "execution_count": null,
   "metadata": {},
   "outputs": [],
   "source": [
    "with pm.Model() as m55:\n",
    "    alpha = pm.Normal('alpha', mu=0, sd=100)\n",
    "    beta = pm.Normal('beta', mu=0, sd=1)\n",
    "    sigma = pm.Uniform('sigma', lower=0, upper=1)\n",
    "    mu = pm.Deterministic('mu', alpha + beta * dcc['neocortex.perc'])\n",
    "    kcal = pm.Normal('kcal', mu=mu, sd=sigma, observed=dcc['kcal.per.g'])\n",
    "    trace_55 = pm.sample(2000, tune=1000)"
   ]
  },
  {
   "cell_type": "code",
   "execution_count": null,
   "metadata": {},
   "outputs": [],
   "source": [
    "pm.traceplot(trace_55, ['~mu'])"
   ]
  },
  {
   "cell_type": "code",
   "execution_count": null,
   "metadata": {},
   "outputs": [],
   "source": [
    "az.summary(trace_55, ['~mu'], credible_interval=0.89).round(3)"
   ]
  },
  {
   "cell_type": "code",
   "execution_count": null,
   "metadata": {},
   "outputs": [],
   "source": []
  }
 ],
 "metadata": {
  "kernelspec": {
   "display_name": "Python 3",
   "language": "python",
   "name": "python3"
  },
  "language_info": {
   "codemirror_mode": {
    "name": "ipython",
    "version": 3
   },
   "file_extension": ".py",
   "mimetype": "text/x-python",
   "name": "python",
   "nbconvert_exporter": "python",
   "pygments_lexer": "ipython3",
   "version": "3.7.7"
  }
 },
 "nbformat": 4,
 "nbformat_minor": 2
}
