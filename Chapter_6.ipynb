{
 "cells": [
  {
   "cell_type": "code",
   "execution_count": null,
   "metadata": {},
   "outputs": [],
   "source": [
    "import pymc3 as pm\n",
    "import numpy as np\n",
    "import pandas as pd\n",
    "import sklearn.model_selection as skm\n",
    "from scipy import stats\n",
    "import matplotlib.pyplot as plt\n",
    "import seaborn as sns\n",
    "import arviz as az\n",
    "import statsmodels.formula.api as smf\n",
    "%config InlineBackend.figure_format = 'retina'\n",
    "az.style.use('arviz-darkgrid')"
   ]
  },
  {
   "cell_type": "code",
   "execution_count": null,
   "metadata": {},
   "outputs": [],
   "source": [
    "df = pd.read_csv(r'D:\\Bayes\\resources\\Rethinking\\Data\\Howell1.csv', sep=';')"
   ]
  },
  {
   "cell_type": "code",
   "execution_count": null,
   "metadata": {},
   "outputs": [],
   "source": [
    "df.age = (df.age - df.age.mean()) / df.age.std()\n",
    "sns.distplot(df.age)"
   ]
  },
  {
   "cell_type": "code",
   "execution_count": null,
   "metadata": {},
   "outputs": [],
   "source": [
    "d1, d2 = skm.train_test_split(df, test_size=0.5)"
   ]
  },
  {
   "cell_type": "code",
   "execution_count": null,
   "metadata": {},
   "outputs": [],
   "source": [
    "len(d1)"
   ]
  },
  {
   "cell_type": "code",
   "execution_count": null,
   "metadata": {},
   "outputs": [],
   "source": [
    "d1.height.mean()"
   ]
  },
  {
   "cell_type": "code",
   "execution_count": null,
   "metadata": {},
   "outputs": [],
   "source": [
    "with pm.Model() as m6h1a:\n",
    "    a = pm.Normal('a', 180, 50)\n",
    "    b1 = pm.Normal('b1', 50, 20)\n",
    "    m = pm.Deterministic('m', a + b1 * d1.age)\n",
    "    s = pm.Uniform('s', 0, 50)\n",
    "    h = pm.Normal('h', mu=m, sd=s, observed=d1.height)\n",
    "    trace_6h1a = pm.sample(1000, tune=1000)"
   ]
  },
  {
   "cell_type": "code",
   "execution_count": null,
   "metadata": {},
   "outputs": [],
   "source": [
    "with pm.Model() as m6h1b:\n",
    "    a = pm.Normal('a', 180, 50)\n",
    "    b1 = pm.Normal('b1', 50, 20)\n",
    "    b2 = pm.Normal('b2', 50, 20)\n",
    "    m = pm.Deterministic('m', a + b1 * d1.age + b2 * d1.age**2)\n",
    "    s = pm.Uniform('s', 0, 50)\n",
    "    h = pm.Normal('h', mu=m, sd=s, observed=d1.height)\n",
    "    trace_6h1b = pm.sample(1000, tune=1000)"
   ]
  },
  {
   "cell_type": "code",
   "execution_count": null,
   "metadata": {},
   "outputs": [],
   "source": [
    "with pm.Model() as m6h1c:\n",
    "    a = pm.Normal('a', 180, 50)\n",
    "    b1 = pm.Normal('b1', 50, 20)\n",
    "    b2 = pm.Normal('b2', 50, 20)\n",
    "    b3 = pm.Normal('b3', 50, 20)\n",
    "    m = pm.Deterministic('m', a + b1 * d1.age + b2 * d1.age**2 + b3 * d1.age**3)\n",
    "    s = pm.Uniform('s', 0, 50)\n",
    "    h = pm.Normal('h', mu=m, sd=s, observed=d1.height)\n",
    "    trace_6h1c = pm.sample(1000, tune=1000)"
   ]
  },
  {
   "cell_type": "code",
   "execution_count": null,
   "metadata": {},
   "outputs": [],
   "source": [
    "with pm.Model() as m6h1d:\n",
    "    a = pm.Normal('a', 180, 50)\n",
    "    b1 = pm.Normal('b1', 50, 20)\n",
    "    b2 = pm.Normal('b2', 50, 20)\n",
    "    b3 = pm.Normal('b3', 50, 20)\n",
    "    b4 = pm.Normal('b4', 50, 20)\n",
    "    m = pm.Deterministic('m', a + b1 * d1.age + b2 * d1.age**2 + b3 * d1.age**3 + b4 * d1.age**4)\n",
    "    s = pm.Uniform('s', 0, 50)\n",
    "    h = pm.Normal('h', mu=m, sd=s, observed=d1.height)\n",
    "    trace_6h1d = pm.sample(1000, tune=1000)"
   ]
  },
  {
   "cell_type": "code",
   "execution_count": null,
   "metadata": {},
   "outputs": [],
   "source": [
    "with pm.Model() as m6h1e:\n",
    "    a = pm.Normal('a', 180, 50)\n",
    "    b1 = pm.Normal('b1', 50, 20)\n",
    "    b2 = pm.Normal('b2', 50, 20)\n",
    "    b3 = pm.Normal('b3', 50, 20)\n",
    "    b4 = pm.Normal('b4', 50, 20)\n",
    "    b5 = pm.Normal('b5', 50, 20)\n",
    "    m = pm.Deterministic('m', a + b1 * d1.age + b2 * d1.age**2 + b3 * d1.age**3 + b4 * d1.age**4 + b5 * d1.age**5)\n",
    "    s = pm.Uniform('s', 0, 50)\n",
    "    h = pm.Normal('h', mu=m, sd=s, observed=d1.height)\n",
    "    trace_6h1e = pm.sample(1000, tune=1000)"
   ]
  },
  {
   "cell_type": "code",
   "execution_count": null,
   "metadata": {},
   "outputs": [],
   "source": [
    "with pm.Model() as m6h1f:\n",
    "    a = pm.Normal('a', 180, 50)\n",
    "    b1 = pm.Normal('b1', 50, 20)\n",
    "    b2 = pm.Normal('b2', 50, 20)\n",
    "    b3 = pm.Normal('b3', 50, 20)\n",
    "    b4 = pm.Normal('b4', 50, 20)\n",
    "    b5 = pm.Normal('b5', 50, 20)\n",
    "    b6 = pm.Normal('b6', 50, 20)\n",
    "    m = pm.Deterministic('m', a + b1 * d1.age + b2 * d1.age**2 + b3 * d1.age**3 + b4 * d1.age**4 + b5 * d1.age**5 + b6 * d1.age**6)\n",
    "    s = pm.Uniform('s', 0, 50)\n",
    "    h = pm.Normal('h', mu=m, sd=s, observed=d1.height)\n",
    "    trace_6h1f = pm.sample(1000, tune=1000)"
   ]
  },
  {
   "cell_type": "code",
   "execution_count": null,
   "metadata": {},
   "outputs": [],
   "source": [
    "with pm.Model() as m6h1a2:\n",
    "    a = pm.Normal('a', 140, 30)\n",
    "    b1 = pm.Normal('b1', 0, 50)\n",
    "    m = pm.Deterministic('m', a + b1 * d1.age)\n",
    "    s = pm.Normal('s', 30, 10)\n",
    "    h = pm.Normal('h', mu=m, sd=s, observed=d1.height)\n",
    "    trace_6h1a2 = pm.sample(1000, tune=1000)"
   ]
  },
  {
   "cell_type": "code",
   "execution_count": null,
   "metadata": {},
   "outputs": [],
   "source": [
    "with pm.Model() as m6h1b2:\n",
    "    a = pm.Normal('a', 140, 30)\n",
    "    b1 = pm.Normal('b1', 0, 50)\n",
    "    b2 = pm.Normal('b2', 0, 50)\n",
    "    m = pm.Deterministic('m', a + b1 * d1.age + b2 * d1.age**2)\n",
    "    s = pm.Normal('s', 30, 10)\n",
    "    h = pm.Normal('h', mu=m, sd=s, observed=d1.height)\n",
    "    trace_6h1b2 = pm.sample(1000, tune=1000)"
   ]
  },
  {
   "cell_type": "code",
   "execution_count": null,
   "metadata": {},
   "outputs": [],
   "source": [
    "with pm.Model() as m6h1c2:\n",
    "    a = pm.Normal('a', 140, 30)\n",
    "    b1 = pm.Normal('b1', 0, 50)\n",
    "    b2 = pm.Normal('b2', 0, 50)\n",
    "    b3 = pm.Normal('b3', 0, 50)\n",
    "    m = pm.Deterministic('m', a + b1 * d1.age + b2 * d1.age**2 + b3 * d1.age**3)\n",
    "    s = pm.Normal('s', 30, 10)\n",
    "    h = pm.Normal('h', mu=m, sd=s, observed=d1.height)\n",
    "    trace_6h1c2 = pm.sample(1000, tune=1000)"
   ]
  },
  {
   "cell_type": "code",
   "execution_count": null,
   "metadata": {},
   "outputs": [],
   "source": [
    "with pm.Model() as m6h1d2:\n",
    "    a = pm.Normal('a', 140, 30)\n",
    "    b1 = pm.Normal('b1', 0, 50)\n",
    "    b2 = pm.Normal('b2', 0, 50)\n",
    "    b3 = pm.Normal('b3', 0, 50)\n",
    "    b4 = pm.Normal('b4', 0, 50)\n",
    "    m = pm.Deterministic('m', a + b1 * d1.age + b2 * d1.age**2 + b3 * d1.age**3 + b4 * d1.age**4)\n",
    "    s = pm.Normal('s', 30, 10)\n",
    "    h = pm.Normal('h', mu=m, sd=s, observed=d1.height)\n",
    "    trace_6h1d2 = pm.sample(1000, tune=1000)"
   ]
  },
  {
   "cell_type": "code",
   "execution_count": null,
   "metadata": {},
   "outputs": [],
   "source": [
    "with pm.Model() as m6h1e2:\n",
    "    a = pm.Normal('a', 140, 30)\n",
    "    b1 = pm.Normal('b1', 0, 50)\n",
    "    b2 = pm.Normal('b2', 0, 50)\n",
    "    b3 = pm.Normal('b3', 0, 50)\n",
    "    b4 = pm.Normal('b4', 0, 50)\n",
    "    b5 = pm.Normal('b5', 0, 50)\n",
    "    m = pm.Deterministic('m', a + b1 * d1.age + b2 * d1.age**2 + b3 * d1.age**3 + b4 * d1.age**4 + b5 * d1.age**5)\n",
    "    s = pm.Normal('s', 30, 10)\n",
    "    h = pm.Normal('h', mu=m, sd=s, observed=d1.height)\n",
    "    trace_6h1e2 = pm.sample(2000, tune=2000)"
   ]
  },
  {
   "cell_type": "code",
   "execution_count": null,
   "metadata": {},
   "outputs": [],
   "source": [
    "with pm.Model() as m6h1f2:\n",
    "    a = pm.Normal('a', 140, 30)\n",
    "    b1 = pm.Normal('b1', 0, 50)\n",
    "    b2 = pm.Normal('b2', 0, 50)\n",
    "    b3 = pm.Normal('b3', 0, 50)\n",
    "    b4 = pm.Normal('b4', 0, 50)\n",
    "    b5 = pm.Normal('b5', 0, 50)\n",
    "    b6 = pm.Normal('b6', 0, 50)\n",
    "    m = pm.Deterministic('m', a + b1 * d1.age + b2 * d1.age**2 + b3 * d1.age**3 + b4 * d1.age**4 + b5 * d1.age**5 + b6 * d1.age**6)\n",
    "    s = pm.Normal('s', 30, 10)\n",
    "    h = pm.Normal('h', mu=m, sd=s, observed=d1.height)\n",
    "    trace_6h1f2 = pm.sample(2000, tune=2500)"
   ]
  },
  {
   "cell_type": "code",
   "execution_count": null,
   "metadata": {},
   "outputs": [],
   "source": [
    "m6h1a.name = 'm6h1a'\n",
    "m6h1b.name = 'm6h1b'\n",
    "m6h1c.name = 'm6h1c'\n",
    "m6h1d.name = 'm6h1d'\n",
    "m6h1e.name = 'm6h1e'\n",
    "m6h1f.name = 'm6h1f'\n",
    "model_dict = {m6h1a: trace_6h1a, m6h1b: trace_6h1b, m6h1c: trace_6h1c, m6h1d: trace_6h1d, m6h1e: trace_6h1e, m6h1f: trace_6h1f}"
   ]
  },
  {
   "cell_type": "code",
   "execution_count": null,
   "metadata": {},
   "outputs": [],
   "source": [
    "m6h1a2.name = 'm6h1a2'\n",
    "m6h1b2.name = 'm6h1b2'\n",
    "m6h1c2.name = 'm6h1c2'\n",
    "m6h1d2.name = 'm6h1d2'\n",
    "m6h1e2.name = 'm6h1e2'\n",
    "m6h1f2.name = 'm6h1f2'\n",
    "model_dict2 = {m6h1a2: trace_6h1a2, m6h1b2: trace_6h1b2, m6h1c2: trace_6h1c2, m6h1d2: trace_6h1d2, m6h1e2: trace_6h1e2, m6h1f2: trace_6h1f2}"
   ]
  },
  {
   "cell_type": "code",
   "execution_count": null,
   "metadata": {},
   "outputs": [],
   "source": [
    "pm.compare(model_dict2)"
   ]
  },
  {
   "cell_type": "code",
   "execution_count": null,
   "metadata": {},
   "outputs": [],
   "source": [
    "comp = pm.compare(model_dict)\n",
    "comp"
   ]
  },
  {
   "cell_type": "code",
   "execution_count": null,
   "metadata": {},
   "outputs": [],
   "source": [
    "A_avg = np.linspace(-2, 3, 100)"
   ]
  },
  {
   "cell_type": "code",
   "execution_count": null,
   "metadata": {},
   "outputs": [],
   "source": [
    "mu_pred = trace_6h1a['a'] + trace_6h1a['b1'] * A_avg[:,None]\n",
    "plt.scatter(df.age, df.height, alpha=0.3)\n",
    "plt.plot(A_avg, mu_pred.mean(1), 'C0')\n",
    "az.plot_hpd(A_avg, mu_pred.T, credible_interval=0.97)\n",
    "plt.axis([-2, 3, 40, 190])"
   ]
  },
  {
   "cell_type": "code",
   "execution_count": null,
   "metadata": {},
   "outputs": [],
   "source": [
    "mu_pred = trace_6h1b['a'] + trace_6h1b['b1'] * A_avg[:,None] + trace_6h1b['b2'] * (A_avg[:,None])**2\n",
    "plt.scatter(df.age, df.height, alpha=0.3)\n",
    "plt.plot(A_avg, mu_pred.mean(1), 'C0')\n",
    "az.plot_hpd(A_avg, mu_pred.T, credible_interval=0.97)\n",
    "plt.axis([-2, 3, 40, 190])"
   ]
  },
  {
   "cell_type": "code",
   "execution_count": null,
   "metadata": {},
   "outputs": [],
   "source": [
    "mu_pred = trace_6h1c['a'] + trace_6h1c['b1'] * A_avg[:,None] + trace_6h1c['b2'] * (A_avg[:,None])**2 + trace_6h1c['b3'] * (A_avg[:,None])**3\n",
    "plt.scatter(df.age, df.height, alpha=0.3)\n",
    "plt.plot(A_avg, mu_pred.mean(1), 'C0')\n",
    "az.plot_hpd(A_avg, mu_pred.T, credible_interval=0.97)\n",
    "plt.axis([-2, 3, 40, 190])"
   ]
  },
  {
   "cell_type": "code",
   "execution_count": null,
   "metadata": {},
   "outputs": [],
   "source": [
    "mu_pred = trace_6h1d['a'] + trace_6h1d['b1'] * A_avg[:,None] + trace_6h1d['b2'] * (A_avg[:,None])**2 + trace_6h1d['b3'] * (A_avg[:,None])**3 + trace_6h1d['b4'] * (A_avg[:,None])**4\n",
    "plt.scatter(df.age, df.height, alpha=0.3)\n",
    "plt.plot(A_avg, mu_pred.mean(1), 'C0')\n",
    "az.plot_hpd(A_avg, mu_pred.T, credible_interval=0.97)\n",
    "plt.axis([-2, 3, 40, 190])"
   ]
  },
  {
   "cell_type": "code",
   "execution_count": null,
   "metadata": {},
   "outputs": [],
   "source": [
    "mu_pred = trace_6h1e['a'] + trace_6h1e['b1'] * A_avg[:,None] + trace_6h1e['b2'] * (A_avg[:,None])**2 + trace_6h1e['b3'] * (A_avg[:,None])**3 + trace_6h1e['b4'] * (A_avg[:,None])**4 + trace_6h1e['b5'] * (A_avg[:,None])**5\n",
    "plt.scatter(df.age, df.height, alpha=0.3)\n",
    "plt.plot(A_avg, mu_pred.mean(1), 'C0')\n",
    "az.plot_hpd(A_avg, mu_pred.T, credible_interval=0.97)\n",
    "plt.axis([-2, 3, 40, 190])"
   ]
  },
  {
   "cell_type": "code",
   "execution_count": null,
   "metadata": {},
   "outputs": [],
   "source": [
    "mu_pred = trace_6h1f['a'] + trace_6h1f['b1'] * A_avg[:,None] + trace_6h1f['b2'] * (A_avg[:,None])**2 + trace_6h1f['b3'] * (A_avg[:,None])**3 + trace_6h1f['b4'] * (A_avg[:,None])**4 + trace_6h1f['b5'] * (A_avg[:,None])**5 + trace_6h1f['b6'] * (A_avg[:,None])**6\n",
    "plt.scatter(df.age, df.height, alpha=0.3)\n",
    "plt.plot(A_avg, mu_pred.mean(1), 'C0')\n",
    "az.plot_hpd(A_avg, mu_pred.T, credible_interval=0.97)\n",
    "plt.axis([-2, 3, 40, 190])"
   ]
  },
  {
   "cell_type": "code",
   "execution_count": null,
   "metadata": {},
   "outputs": [],
   "source": [
    "A_avg = np.linspace(-2, 3, 100)"
   ]
  },
  {
   "cell_type": "code",
   "execution_count": null,
   "metadata": {},
   "outputs": [],
   "source": [
    "mu_pred = trace_6h1a2['a'] + trace_6h1a2['b1'] * A_avg[:,None]\n",
    "plt.scatter(df.age, df.height, alpha=0.3)\n",
    "plt.plot(A_avg, mu_pred.mean(1), 'C0')\n",
    "az.plot_hpd(A_avg, mu_pred.T, credible_interval=0.97)\n",
    "plt.axis([-2, 3, 40, 190])"
   ]
  },
  {
   "cell_type": "code",
   "execution_count": null,
   "metadata": {},
   "outputs": [],
   "source": [
    "mu_pred = trace_6h1b2['a'] + trace_6h1b2['b1'] * A_avg[:,None] + trace_6h1b2['b2'] * (A_avg[:,None])**2\n",
    "plt.scatter(df.age, df.height, alpha=0.3)\n",
    "plt.plot(A_avg, mu_pred.mean(1), 'C0')\n",
    "az.plot_hpd(A_avg, mu_pred.T, credible_interval=0.97)\n",
    "plt.axis([-2, 3, 40, 190])"
   ]
  },
  {
   "cell_type": "code",
   "execution_count": null,
   "metadata": {},
   "outputs": [],
   "source": [
    "mu_pred = trace_6h1c2['a'] + trace_6h1c2['b1'] * A_avg[:,None] + trace_6h1c2['b2'] * (A_avg[:,None])**2 + trace_6h1c2['b3'] * (A_avg[:,None])**3\n",
    "plt.scatter(df.age, df.height, alpha=0.3)\n",
    "plt.plot(A_avg, mu_pred.mean(1), 'C0')\n",
    "az.plot_hpd(A_avg, mu_pred.T, credible_interval=0.97)\n",
    "plt.axis([-2, 3, 40, 190])"
   ]
  },
  {
   "cell_type": "code",
   "execution_count": null,
   "metadata": {},
   "outputs": [],
   "source": [
    "mu_pred = trace_6h1d2['a'] + trace_6h1d2['b1'] * A_avg[:,None] + trace_6h1d2['b2'] * (A_avg[:,None])**2 + trace_6h1d2['b3'] * (A_avg[:,None])**3 + trace_6h1d2['b4'] * (A_avg[:,None])**4\n",
    "plt.scatter(df.age, df.height, alpha=0.3)\n",
    "plt.plot(A_avg, mu_pred.mean(1), 'C0')\n",
    "az.plot_hpd(A_avg, mu_pred.T, credible_interval=0.97)\n",
    "plt.axis([-2, 3, 40, 190])"
   ]
  },
  {
   "cell_type": "code",
   "execution_count": null,
   "metadata": {},
   "outputs": [],
   "source": [
    "mu_pred = trace_6h1e2['a'] + trace_6h1e2['b1'] * A_avg[:,None] + trace_6h1e2['b2'] * (A_avg[:,None])**2 + trace_6h1e2['b3'] * (A_avg[:,None])**3 + trace_6h1e2['b4'] * (A_avg[:,None])**4 + trace_6h1e2['b5'] * (A_avg[:,None])**5\n",
    "plt.scatter(df.age, df.height, alpha=0.3)\n",
    "plt.plot(A_avg, mu_pred.mean(1), 'C0')\n",
    "az.plot_hpd(A_avg, mu_pred.T, credible_interval=0.97)\n",
    "plt.axis([-2, 3, 40, 190])"
   ]
  },
  {
   "cell_type": "code",
   "execution_count": null,
   "metadata": {},
   "outputs": [],
   "source": [
    "mu_pred = trace_6h1f2['a'] + trace_6h1f2['b1'] * A_avg[:,None] + trace_6h1f2['b2'] * (A_avg[:,None])**2 + trace_6h1f2['b3'] * (A_avg[:,None])**3 + trace_6h1f2['b4'] * (A_avg[:,None])**4 + trace_6h1f2['b5'] * (A_avg[:,None])**5 + trace_6h1f2['b6'] * (A_avg[:,None])**6\n",
    "plt.scatter(df.age, df.height, alpha=0.3)\n",
    "plt.plot(A_avg, mu_pred.mean(1), 'C0')\n",
    "az.plot_hpd(A_avg, mu_pred.T, credible_interval=0.97)\n",
    "plt.axis([-2, 3, 40, 190])"
   ]
  },
  {
   "cell_type": "code",
   "execution_count": null,
   "metadata": {},
   "outputs": [],
   "source": [
    "ppc_w = pm.sample_posterior_predictive_w(list(model_dict.values()), 1000, list(model_dict.keys()), weights=comp.weight.sort_index(ascending=True))"
   ]
  },
  {
   "cell_type": "code",
   "execution_count": null,
   "metadata": {},
   "outputs": [],
   "source": [
    "ppc_d = pm.sample_posterior_predictive(trace_6h1d, 1000, m6h1d)"
   ]
  },
  {
   "cell_type": "code",
   "execution_count": null,
   "metadata": {},
   "outputs": [],
   "source": [
    "mu_pred_d = ppc_d['h']\n",
    "plt.plot(list(zip(d1.age, mu_pred_d.mean(0))))"
   ]
  },
  {
   "cell_type": "code",
   "execution_count": null,
   "metadata": {},
   "outputs": [],
   "source": []
  },
  {
   "cell_type": "code",
   "execution_count": null,
   "metadata": {},
   "outputs": [],
   "source": [
    "list(zip(d1.age, mu_pred_d.mean(1)))"
   ]
  },
  {
   "cell_type": "code",
   "execution_count": null,
   "metadata": {},
   "outputs": [],
   "source": []
  }
 ],
 "metadata": {
  "kernelspec": {
   "display_name": "Python 3",
   "language": "python",
   "name": "python3"
  },
  "language_info": {
   "codemirror_mode": {
    "name": "ipython",
    "version": 3
   },
   "file_extension": ".py",
   "mimetype": "text/x-python",
   "name": "python",
   "nbconvert_exporter": "python",
   "pygments_lexer": "ipython3",
   "version": "3.7.7"
  }
 },
 "nbformat": 4,
 "nbformat_minor": 2
}
