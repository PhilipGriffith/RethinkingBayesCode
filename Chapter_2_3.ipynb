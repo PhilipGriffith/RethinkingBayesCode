{
 "cells": [
  {
   "cell_type": "code",
   "execution_count": null,
   "metadata": {},
   "outputs": [],
   "source": [
    "import numpy as np\n",
    "import scipy.stats as stats\n",
    "import matplotlib.pyplot as plt\n",
    "# import arviz as az\n",
    "# import pymc3 as pm\n",
    "\n",
    "%matplotlib inline\n",
    "%config InlineBackend.figure_format = 'retina'\n",
    "plt.style.use(['seaborn-colorblind', 'seaborn-darkgrid'])"
   ]
  },
  {
   "cell_type": "markdown",
   "metadata": {},
   "source": [
    "## Helper Functions"
   ]
  },
  {
   "cell_type": "code",
   "execution_count": null,
   "metadata": {},
   "outputs": [],
   "source": [
    "def compute_grid_approximation(prior, success=6, tosses=9):\n",
    "    \"\"\"\n",
    "        This function helps calculate a grid approximation of the posterior distribution.\n",
    "        \n",
    "        Parameters:\n",
    "            prior: np.array\n",
    "                A distribution representing our state of knowledge before seeing the data.\n",
    "                Number of items should be the same as number of grid points.\n",
    "                \n",
    "            success: integer\n",
    "                Number of successes.\n",
    "            \n",
    "            tosses: integer\n",
    "                Number of tosses (i.e. successes + failures).\n",
    "                \n",
    "        Returns: \n",
    "            p_grid: np.array\n",
    "                Evenly-spaced out grid between 0 and 1.\n",
    "                \n",
    "            posterior: np.array\n",
    "                The posterior distribution.\n",
    "    \"\"\"\n",
    "    # define grid\n",
    "    p_grid = np.linspace(0, 1, prior.shape[0])\n",
    "\n",
    "    # compute likelihood at each point in the grid\n",
    "    likelihood = stats.binom.pmf(success, tosses, p_grid)\n",
    "\n",
    "    # compute product of likelihood and prior\n",
    "    unstd_posterior = likelihood * prior\n",
    "\n",
    "    # standardize the posterior, so it sums to 1\n",
    "    posterior = unstd_posterior / unstd_posterior.sum()\n",
    "    \n",
    "    return p_grid, posterior, success, tosses"
   ]
  },
  {
   "cell_type": "code",
   "execution_count": null,
   "metadata": {},
   "outputs": [],
   "source": [
    "def plot_grid_approximation(p_grid, posterior, success, tosses, x_label):\n",
    "    \"\"\"\n",
    "        This function plots a grid approximation of the posterior distribution.\n",
    "    \"\"\"\n",
    "    plt.plot(p_grid, posterior, 'o-', label=f'Success = {success}\\nTosses = {tosses}')\n",
    "    plt.xlabel(x_label)\n",
    "    plt.ylabel('Posterior Probability')\n",
    "    plt.legend(loc=0)"
   ]
  },
  {
   "cell_type": "markdown",
   "metadata": {},
   "source": [
    "## 2M1"
   ]
  },
  {
   "cell_type": "code",
   "execution_count": null,
   "metadata": {},
   "outputs": [],
   "source": [
    "# We'll create distributions with 20 points\n",
    "prior = np.ones(20)\n",
    "print(prior)\n",
    "x_label = 'Probability of Water'\n",
    "# 1\n",
    "pg, po, s, t = compute_grid_approximation(prior, success=3, tosses=3)\n",
    "plot_grid_approximation(pg, po, s, t, x_label)\n",
    "# 2\n",
    "pg, po, s, t = compute_grid_approximation(prior, 3, 4)\n",
    "plot_grid_approximation(pg, po, s, t, x_label)\n",
    "# 3\n",
    "pg, po, s, t = compute_grid_approximation(prior, 5, 7)\n",
    "plot_grid_approximation(pg, po, s, t, x_label)"
   ]
  },
  {
   "cell_type": "markdown",
   "metadata": {},
   "source": [
    "## 2M2"
   ]
  },
  {
   "cell_type": "code",
   "execution_count": null,
   "metadata": {},
   "outputs": [],
   "source": [
    "# Create distributions with 20 points\n",
    "p_grid = np.linspace(start=0, stop=1, num=20)\n",
    "prior = np.where(p_grid < 0.5, 0, 1)\n",
    "x_label = 'Probability of Water'\n",
    "# 1) W, W, W\n",
    "pg, po, s, t = compute_grid_approximation(prior, success=3, 3)\n",
    "plot_grid_approximation(pg, po, s, t, x_label)\n",
    "# 2) W, W, W, L\n",
    "pg, po, s, t = compute_grid_approximation(prior, 3, 4)\n",
    "plot_grid_approximation(pg, po, s, t, x_label)\n",
    "# 3) L, W, W, L, W, W, W\n",
    "pg, po, s, t = compute_grid_approximation(prior, 5, 7)\n",
    "plot_grid_approximation(pg, po, s, t, x_label)"
   ]
  },
  {
   "cell_type": "markdown",
   "metadata": {},
   "source": [
    "## 2M3"
   ]
  },
  {
   "cell_type": "markdown",
   "metadata": {},
   "source": [
    "$$P(S=a \\mid C_1=2) = \\frac{P(C_1=2 \\mid S=a)P(S=a)}{P(C_1=2)} = \\frac{0.05}{0.05+0.1} = \\frac{1}{3}$$\n",
    "$$P(S=b \\mid C_1=2) = 1 - P(S=a \\mid C_1=2)=\\frac{2}{3}$$\n",
    "$$P(C_2=2 \\mid C_1=2) = \\sum_S P(C_2=2, S, \\mid C_1=2)\\\\\n",
    "= P(C_2=2, S=a \\mid C_1=2) + P(C_2=2, S=b \\mid C_1=2)\\\\\n",
    "= P(C_2=2 \\mid S=a, C_1=2) \\cdot P(S=a \\mid C_1=2 \\quad+ P(C_2=2 \\mid S=b, C_1=2) \\cdot P(S=b \\mid C_1=2)\\\\\n",
    "= P(C_2=2 \\mid S=a) \\cdot P(S=a \\mid C_1=2) \\quad+ P(C_2=2 \\mid S=b) \\cdot P(S=b \\mid C_1=2) \\text{Conditional independence. See Note below}\\\\\n",
    "= \\frac{1}{10} \\times \\frac{1}{3} + \\frac{2}{10} \\times \\frac{2}{3}\\\\\n",
    "= \\frac{1}{30} + \\frac{4}{30}\\\\\n",
    "= \\frac{1}{6}$$"
   ]
  },
  {
   "cell_type": "markdown",
   "metadata": {},
   "source": [
    "## 2M4"
   ]
  },
  {
   "cell_type": "code",
   "execution_count": null,
   "metadata": {},
   "outputs": [],
   "source": [
    "from __future__ import absolute_import\n",
    "from __future__ import unicode_literals\n",
    "from __future__ import print_function\n",
    "from __future__ import division\n",
    "\n",
    "__author__ = \"\"\"Aric Hagberg (hagberg@lanl.gov)\"\"\"\n",
    "\n",
    "from pygraphviz import *\n",
    "\n",
    "A=AGraph()\n",
    "\n",
    "# set some default node attributes\n",
    "A.node_attr['style']='filled'\n",
    "A.node_attr['shape']='circle'\n",
    "A.node_attr['fixedsize']='true'\n",
    "A.node_attr['fontcolor']='#FFFFFF'\n",
    "\n",
    "# make a star in shades of red\n",
    "for i in range(16):\n",
    "    A.add_edge(0,i)\n",
    "    n=A.get_node(i)\n",
    "    n.attr['fillcolor']=\"#%2x0000\"%(i*16)\n",
    "    n.attr['height']=\"%s\"%(i/16.0+0.5)\n",
    "    n.attr['width']=\"%s\"%(i/16.0+0.5)\n",
    "\n",
    "print(A.string()) # print to screen\n",
    "A.write(\"star.dot\") # write to simple.dot\n",
    "print(\"Wrote star.dot\")\n",
    "A.draw('star.png',prog=\"circo\") # draw to png using circo\n",
    "print(\"Wrote star.png\")"
   ]
  },
  {
   "cell_type": "code",
   "execution_count": null,
   "metadata": {},
   "outputs": [],
   "source": [
    "A=pgv.AGraph()\n",
    "\n",
    "A.add_edge(1,2)\n",
    "A.add_edge(2,3)\n",
    "A.add_edge(1,3)\n",
    "\n",
    "print(A.string()) # print to screen\n",
    "print(\"Wrote simple.dot\")\n",
    "A.write('simple.dot') # write to simple.dot\n",
    "\n",
    "B=pgv.AGraph('simple.dot') # create a new graph from file\n",
    "B.layout() # layout with default (neato)\n",
    "B.draw('simple.png') # draw png\n",
    "print(\"Wrote simple.png\")"
   ]
  },
  {
   "cell_type": "markdown",
   "metadata": {},
   "source": [
    "## 2M5"
   ]
  },
  {
   "cell_type": "code",
   "execution_count": null,
   "metadata": {},
   "outputs": [],
   "source": [
    "a = stats.binom.pmf(2, n=2, p=0.1)\n",
    "b = stats.binom.pmf(2, n=2, p=0.2)\n",
    "a*0.5+b*0.5"
   ]
  },
  {
   "cell_type": "markdown",
   "metadata": {},
   "source": [
    "## 2M6"
   ]
  },
  {
   "cell_type": "code",
   "execution_count": null,
   "metadata": {},
   "outputs": [],
   "source": [
    "stats.binom.rvs(size=10, n=2, p=0.7)"
   ]
  },
  {
   "cell_type": "markdown",
   "metadata": {},
   "source": [
    "## 2M7"
   ]
  },
  {
   "cell_type": "code",
   "execution_count": null,
   "metadata": {},
   "outputs": [],
   "source": [
    "dummy_w = stats.binom.rvs(size=100000, n=9, p=0.6)\n",
    "# [(dummy_w == i).mean() for i in range(3)]\n",
    "plt.hist(dummy_w, bins=50)"
   ]
  },
  {
   "cell_type": "markdown",
   "metadata": {},
   "source": [
    "## 2H1"
   ]
  },
  {
   "cell_type": "code",
   "execution_count": null,
   "metadata": {},
   "outputs": [],
   "source": [
    "pg, po, w, n = grid_approximation(np.ones(20), 6, 9)\n",
    "samples = np.random.choice(pg, p=po, size=10000, replace=True)"
   ]
  },
  {
   "cell_type": "markdown",
   "metadata": {},
   "source": [
    "## 2H2"
   ]
  },
  {
   "cell_type": "code",
   "execution_count": null,
   "metadata": {},
   "outputs": [],
   "source": [
    "dummy_w = stats.binom.rvs(size=10000, n=n, p=samples)\n",
    "# [(dummy_w == i).mean() for i in range(3)]\n",
    "plt.hist(dummy_w, bins=50)"
   ]
  },
  {
   "cell_type": "markdown",
   "metadata": {},
   "source": [
    "## 2H3"
   ]
  },
  {
   "cell_type": "code",
   "execution_count": null,
   "metadata": {},
   "outputs": [],
   "source": [
    "size = 1000\n",
    "pg, po, w, n = grid_approximation(np.ones(size), 6, 9)\n",
    "samples = np.random.choice(pg, p=po, size=size, replace=True)\n",
    "plt.hist(samples, bins=50)"
   ]
  },
  {
   "cell_type": "markdown",
   "metadata": {},
   "source": [
    "## 2H4"
   ]
  },
  {
   "cell_type": "code",
   "execution_count": null,
   "metadata": {},
   "outputs": [],
   "source": [
    "np.mean(samples < 0.2)"
   ]
  },
  {
   "cell_type": "code",
   "execution_count": null,
   "metadata": {},
   "outputs": [],
   "source": [
    "np.mean(samples > 0.8)"
   ]
  },
  {
   "cell_type": "code",
   "execution_count": null,
   "metadata": {},
   "outputs": [],
   "source": [
    "np.mean((samples < 0.8) & (samples > 0.2))"
   ]
  },
  {
   "cell_type": "code",
   "execution_count": null,
   "metadata": {},
   "outputs": [],
   "source": [
    "np.percentile(samples, 20)"
   ]
  },
  {
   "cell_type": "code",
   "execution_count": null,
   "metadata": {},
   "outputs": [],
   "source": [
    "perc_range = np.percentile(samples, [80, 100])[0]\n",
    "perc_range"
   ]
  },
  {
   "cell_type": "code",
   "execution_count": null,
   "metadata": {},
   "outputs": [],
   "source": [
    "plt.plot(pg, po)\n",
    "plt.xlabel('proportion of water (p)', fontsize=14)\n",
    "plt.ylabel('Density', fontsize=14)\n",
    "plt.xticks([0,0.25,0.50,0.75,1.00])\n",
    "plt.fill_between(pg, po, where = (pg > perc_range))"
   ]
  },
  {
   "cell_type": "code",
   "execution_count": null,
   "metadata": {},
   "outputs": [],
   "source": [
    "az.hpd(samples, credible_interval=0.66)"
   ]
  },
  {
   "cell_type": "code",
   "execution_count": null,
   "metadata": {},
   "outputs": [],
   "source": [
    "np.percentile(samples, [17, 83])"
   ]
  },
  {
   "cell_type": "code",
   "execution_count": null,
   "metadata": {},
   "outputs": [],
   "source": [
    "pg, po, w, n = grid_approximation(np.ones(100), success=8, tosses=15)\n",
    "plt.plot(pg, po)"
   ]
  },
  {
   "cell_type": "code",
   "execution_count": null,
   "metadata": {},
   "outputs": [],
   "source": [
    "np.random.seed(1492)\n",
    "samples2 = np.random.choice(pg, p=po, size=10000, replace=True)\n",
    "az.hpd(samples2, credible_interval=.9)"
   ]
  },
  {
   "cell_type": "code",
   "execution_count": null,
   "metadata": {},
   "outputs": [],
   "source": [
    "ppc = stats.binom.rvs(n=15, size=10000, p=samples2)\n",
    "plt.hist(ppc, bins=50)\n",
    "np.mean(ppc == 8)"
   ]
  },
  {
   "cell_type": "code",
   "execution_count": null,
   "metadata": {},
   "outputs": [],
   "source": [
    "ppc2 = stats.binom.rvs(n=9, size=10000, p=samples2)\n",
    "plt.hist(ppc2, bins=50)\n",
    "np.mean(ppc2 == 6)"
   ]
  },
  {
   "cell_type": "code",
   "execution_count": null,
   "metadata": {},
   "outputs": [],
   "source": [
    "prior3 = np.where(np.linspace(start=0, stop=1, num=1000) < 0.5, 0, 1)\n",
    "pg3, po3, w, n = grid_approximation(prior3, success=8, tosses=15)\n",
    "plt.plot(pg3, po3)"
   ]
  },
  {
   "cell_type": "code",
   "execution_count": null,
   "metadata": {},
   "outputs": [],
   "source": [
    "samples3 = np.random.choice(pg3, p=po3, size=10000, replace=True)\n",
    "az.hpd(samples3, credible_interval=.9)"
   ]
  },
  {
   "cell_type": "code",
   "execution_count": null,
   "metadata": {},
   "outputs": [],
   "source": [
    "ppc3 = stats.binom.rvs(n=15, size=10000, p=samples3)\n",
    "plt.hist(ppc3, bins=50)\n",
    "np.mean(ppc3 == 8)"
   ]
  },
  {
   "cell_type": "code",
   "execution_count": null,
   "metadata": {},
   "outputs": [],
   "source": [
    "ppc4 = stats.binom.rvs(n=9, size=10000, p=samples3)\n",
    "plt.hist(ppc4, bins=50)\n",
    "np.mean(ppc4 == 6)"
   ]
  },
  {
   "cell_type": "code",
   "execution_count": null,
   "metadata": {},
   "outputs": [],
   "source": [
    "birth1 = np.array([1,0,0,0,1,1,0,1,0,1,0,0,1,1,0,1,1,0,0,0,1,0,0,0,1,0, 0,0,0,1,1,1,0,1,0,1,1,1,0,1,0,1,1,0,1,0,0,1,1,0,1,0,0,0,0,0,0,0, 1,1,0,1,0,0,1,0,0,0,1,0,0,1,1,1,1,0,1,0,1,1,1,1,1,0,0,1,0,1,1,0,1,0,1,1,1,0,1,1,1,1])\n",
    "birth2 = np.array([0,1,0,1,0,1,1,1,0,0,1,1,1,1,1,0,0,1,1,1,0,0,1,1,1,0,\n",
    "1,1,1,0,1,1,1,0,1,0,0,1,1,1,1,0,0,1,0,1,1,1,1,1,1,1,1,1,1,1,1,1,\n",
    "1,1,1,0,1,1,0,1,1,0,1,1,1,0,0,0,0,0,0,1,0,0,0,1,1,0,0,1,0,0,1,1,\n",
    "0,0,0,1,1,1,0,0,0,0])"
   ]
  },
  {
   "cell_type": "code",
   "execution_count": null,
   "metadata": {},
   "outputs": [],
   "source": [
    "total = len(birth1) + len(birth2)\n",
    "boys = sum(birth1) + sum(birth2)\n",
    "pg, po, b, n = grid_approximation(np.ones(1000), success=boys, tosses=total)\n",
    "plt.plot(pg, po)"
   ]
  },
  {
   "cell_type": "code",
   "execution_count": null,
   "metadata": {},
   "outputs": [],
   "source": [
    "pg[po == max(po)]"
   ]
  },
  {
   "cell_type": "code",
   "execution_count": null,
   "metadata": {},
   "outputs": [],
   "source": [
    "samples = np.random.choice(pg, p=po, size=10000, replace=True)"
   ]
  },
  {
   "cell_type": "code",
   "execution_count": null,
   "metadata": {},
   "outputs": [],
   "source": [
    "for i in (0.5, 0.89, 0.97):\n",
    "    print(f'{i}:', az.hpd(samples, credible_interval=i))"
   ]
  },
  {
   "cell_type": "code",
   "execution_count": null,
   "metadata": {},
   "outputs": [],
   "source": [
    "ppc = stats.binom.rvs(n=200, size=10000, p=samples)"
   ]
  },
  {
   "cell_type": "code",
   "execution_count": null,
   "metadata": {},
   "outputs": [],
   "source": [
    "np.mean(ppc == boys)"
   ]
  },
  {
   "cell_type": "code",
   "execution_count": null,
   "metadata": {},
   "outputs": [],
   "source": [
    "az.plot_kde(ppc)\n",
    "plt.axvline(boys, color='red')"
   ]
  },
  {
   "cell_type": "code",
   "execution_count": null,
   "metadata": {},
   "outputs": [],
   "source": [
    "boys2 = sum(birth1)\n",
    "pg2, po2, b2, n2 = grid_approximation(np.ones(1000), success=boys2, tosses=len(birth1))\n",
    "samples2 = np.random.choice(pg2, p=po2, size=10000, replace=True)\n",
    "ppc2 = stats.binom.rvs(n=100, size=10000, p=samples2)\n",
    "az.plot_kde(ppc2)\n",
    "plt.axvline(boys2, color='red')"
   ]
  },
  {
   "cell_type": "code",
   "execution_count": null,
   "metadata": {},
   "outputs": [],
   "source": [
    "ppc3 = stats.binom.rvs(n=100, size=10000, p=samples)\n",
    "az.plot_kde(ppc3)\n",
    "plt.axvline(boys2, color='red')"
   ]
  },
  {
   "cell_type": "code",
   "execution_count": null,
   "metadata": {},
   "outputs": [],
   "source": [
    "first_girls = len(birth1) - sum(birth1)\n",
    "boys_after_girls = birth2[birth1 == 0]\n",
    "samples4 = stats.binom.rvs(n=first_girls, size=10000, p=samples)\n",
    "az.plot_kde(samples4)\n",
    "plt.axvline(sum(boys_after_girls), color='red')\n",
    "lower, upper = az.hpd(samples4, 0.95)\n",
    "plt.axvline(lower, color='black')\n",
    "plt.axvline(upper, color='black')"
   ]
  },
  {
   "cell_type": "code",
   "execution_count": null,
   "metadata": {},
   "outputs": [],
   "source": [
    "pos = np.random.uniform(-1, 1, size=(16, 10000)).sum(0)\n",
    "az.plot_kde(pos)"
   ]
  },
  {
   "cell_type": "code",
   "execution_count": null,
   "metadata": {},
   "outputs": [],
   "source": [
    "pos = np.random.uniform(1, 1.1, size=(12, 10000)).prod(0)\n",
    "az.plot_kde(pos)"
   ]
  },
  {
   "cell_type": "code",
   "execution_count": null,
   "metadata": {},
   "outputs": [],
   "source": [
    "big = np.random.uniform(1, 1.5, size=(12, 10000)).prod(0)\n",
    "small = np.random.uniform(1, 1.01, size=(12, 10000)).prod(0))\n",
    "_, ax = plt.subplots(1,2, figsize=(8,4))\n",
    "az.plot_kde(big, ax=ax[0])\n",
    "az.plot_kde(small, ax=ax[1])"
   ]
  },
  {
   "cell_type": "code",
   "execution_count": null,
   "metadata": {},
   "outputs": [],
   "source": [
    "pos = np.log(np.random.uniform(1, 1.5, size=(12, 10000)).prod(0))\n",
    "az.plot_kde(pos)"
   ]
  },
  {
   "cell_type": "code",
   "execution_count": null,
   "metadata": {},
   "outputs": [],
   "source": [
    "sample_size = 10000\n",
    "m = stats.norm.rvs(178, 20, sample_size)\n",
    "s = stats.uniform.rvs(0, 50, sample_size)\n",
    "prior_h = stats.norm.rvs(m, s, sample_size)\n",
    "az.plot_kde(prior_h)"
   ]
  },
  {
   "cell_type": "code",
   "execution_count": null,
   "metadata": {},
   "outputs": [],
   "source": [
    "m = stats.norm.rvs(178, 100, sample_size)\n",
    "s = stats.uniform.rvs(0, 50, sample_size)\n",
    "prior_h = stats.norm.rvs(m, s, sample_size)\n",
    "az.plot_kde(prior_h)"
   ]
  },
  {
   "cell_type": "code",
   "execution_count": null,
   "metadata": {},
   "outputs": [],
   "source": [
    "print(np.mean(prior_h < 0))\n",
    "np.mean(prior_h > 272)"
   ]
  },
  {
   "cell_type": "code",
   "execution_count": null,
   "metadata": {},
   "outputs": [],
   "source": []
  }
 ],
 "metadata": {
  "kernelspec": {
   "display_name": "Python 3",
   "language": "python",
   "name": "python3"
  },
  "language_info": {
   "codemirror_mode": {
    "name": "ipython",
    "version": 3
   },
   "file_extension": ".py",
   "mimetype": "text/x-python",
   "name": "python",
   "nbconvert_exporter": "python",
   "pygments_lexer": "ipython3",
   "version": "3.7.7"
  }
 },
 "nbformat": 4,
 "nbformat_minor": 2
}
